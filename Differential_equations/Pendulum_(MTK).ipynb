{
  "nbformat": 4,
  "nbformat_minor": 0,
  "metadata": {
    "colab": {
      "provenance": [],
      "authorship_tag": "ABX9TyO1CgBf4dbEYPMfaEofjQsf",
      "include_colab_link": true
    },
    "kernelspec": {
      "name": "python3",
      "display_name": "Python 3"
    },
    "language_info": {
      "name": "python"
    }
  },
  "cells": [
    {
      "cell_type": "markdown",
      "metadata": {
        "id": "view-in-github",
        "colab_type": "text"
      },
      "source": [
        "<a href=\"https://colab.research.google.com/github/RCortez25/Scientific-Machine-Learning/blob/main/Differential_equations/Pendulum_(MTK).ipynb\" target=\"_parent\"><img src=\"https://colab.research.google.com/assets/colab-badge.svg\" alt=\"Open In Colab\"/></a>"
      ]
    },
    {
      "cell_type": "markdown",
      "source": [
        "# Introduction"
      ],
      "metadata": {
        "id": "EpGlOtDTKfma"
      }
    },
    {
      "cell_type": "markdown",
      "source": [
        "# Code walkthrough"
      ],
      "metadata": {
        "id": "QfGjLXZgKiFg"
      }
    },
    {
      "cell_type": "code",
      "execution_count": null,
      "metadata": {
        "id": "V6UelvbmKPUI"
      },
      "outputs": [],
      "source": [
        "# A\n",
        "using ModelingToolkit, DifferentialEquations, Plots\n",
        "\n",
        "# B\n",
        "@parameters t L m g\n",
        "@variables  θ(t) ω(t) M(t)\n",
        "\n",
        "# C\n",
        "Dt = Differential(t)"
      ]
    },
    {
      "cell_type": "markdown",
      "source": [
        "*   **A**: Import the necessary libraries.\n",
        "    * `ModelingToolkit` (MTK) helps one declare symbols and equations, then turns them into efficient code. Let's one build systems.\n",
        "    * `DifferentialEquations` contains the solvers, e.g. `Tsit5`\n",
        "    * `Plots` for plotting the results\n",
        "*   **B**: Define the independent, dependent variables, constants, and the operators\n",
        "    * `@parameters` for the independent variables (`t`) and the constants. This is part of the MTK library\n",
        "    * `@variables` for the dependent variables\n",
        "*   **C**: Definition of the differential operator $d/dt$\n",
        "\n",
        "It is important to note that MTK's `@paremeter` contains \"everything that is not a state variable\", that's why `t` is included alongside with constants like `g, L, m`.\n",
        "\n",
        "A **state variable** in this case is a quantity that determines the system's future through equations (alongside inputs and parameters). State variables are the ones to be integrated.\n",
        "\n",
        "However, quantities that go inside `@variables` are not all states, but also inputs or observed variables that vary with time, like `M` in this case.\n",
        "\n",
        "In this case, the **state** is given by $\\{\\theta, \\omega\\}$, of as a vector as\n",
        "\n",
        "$$\n",
        "\\begin{pmatrix}\n",
        "\\theta \\\\ \\omega\n",
        "\\end{pmatrix}\n",
        "$$"
      ],
      "metadata": {
        "id": "KsU2AM3yK8CC"
      }
    },
    {
      "cell_type": "code",
      "source": [
        "# A\n",
        "eqs = [\n",
        "    Dt(θ) ~ ω,\n",
        "    M     ~ 0.1*sin(t),\n",
        "    Dt(ω) ~ -(3g/(2L))*sin(θ) + (3/(m*L^2))*M\n",
        "]"
      ],
      "metadata": {
        "id": "2xARbm6zK8r6"
      },
      "execution_count": null,
      "outputs": []
    },
    {
      "cell_type": "markdown",
      "source": [
        "*   **A**: Definition of the governing equations of the system using Julia's notation. Here one defines the full set of relations of the system, not just the ones involving the state variables. In can include:\n",
        "\n",
        "\n",
        "\n",
        "*   Differential equations\n",
        "*   Albebraic/observed equations\n",
        "*   Definitions/constraints (e.g., geometry relations, conservation laws)\n",
        "\n",
        "\n",
        "In this case one has\n",
        "\n",
        "$$\n",
        "\\begin{align}\n",
        "\\dot{\\theta} &= \\omega(t) \\\\\n",
        "\\ddot{\\theta} &= \\dot{\\omega} = -\\frac{3g}{2l}\\sin(\\theta)+\\frac{3}{ml^2}M(t) \\\\\n",
        "M(t) &= 0.1\\sin(t)\n",
        "\\end{align}\n",
        "$$\n",
        "\n",
        "That is, the velocity and the acceleration.\n",
        "\n",
        "`~` in MTK means `=`. MTK sees `Dt(θ)` and tags `θ` as as state variable. The same applies for `ω`. It's important to note that MTK will tag a variable as a state variable if it is acted upon a differential operator, that's why `M` here is not treated as a state variable. In this case\n",
        "\n",
        "$$M(t)=0.1\\sin(t)$$\n",
        "\n",
        "is just an algebraic equation.\n",
        "\n",
        "If we change the variables later (like `M`, or `g,l,m`) we won't touch the equations directly, as they are symbolic in this array.\n",
        "\n",
        "Note: In this case we define `M` because we can then modify later for another kind of input. One can thought it is redundant because we can write the definition in the equation for the acceleration but since we want to experiment with different inputs we define its own equation."
      ],
      "metadata": {
        "id": "emDNbFoLMAI4"
      }
    },
    {
      "cell_type": "code",
      "source": [
        "# A\n",
        "@named sys = ODESystem(eqs, t, [θ, ω, M], [L, m, g])\n",
        "\n",
        "# B\n",
        "simplified = structural_simplify(sys)"
      ],
      "metadata": {
        "id": "KmCFThKdMK04"
      },
      "execution_count": null,
      "outputs": []
    },
    {
      "cell_type": "markdown",
      "source": [
        "*   **A**: Create the ODEs system. The `ODESystem` constructor needs:\n",
        "    * The equations of the system\n",
        "    * The independent variables (only `t` in this case).\n",
        "    * The dependent variables (all time-varying variables, not just differential states).\n",
        "    * The constants\n",
        "\n",
        "    The `@named` gives a name to the system. If in other cases there are various systems, this helps keep track of them. Also helps in conncecting different systems, and the name appears in graphs and summaries which also helps with debugging.\n",
        "\n",
        "*   **B**: This is like a \"dependable algebra assistant\". Here MTK\n",
        "    * Classifies variables as state variables, algebraic, etc\n",
        "    * Substitutes definitions, like `M` in this case. This eliminates redundant algebraic relations in case they're present.\n",
        "    * Reduces Differential Algebraic Equations (index reduction) to ODEs when constraints are present.\n",
        "    * Builds a consistent evaluation order, avoiding implicit loops and ensuring everything can be computed from upstream quantities.\n",
        "    * Simplification yields cleaner and faster RHS/Jacobian for the numeric solver.\n",
        "\n",
        "In this case, since it is a small system we can do everything by hand, but as the systems get complicated and scale (add constraints, components, piecewise inputs, etc) using `structural_simplify` is the way to go as it handles everything under the hood for us.\n",
        "\n",
        "Getting in the habit of using it guarantees correct classification/substitution and keeps things robust as the model grows.\n",
        "\n",
        "`structural_simplify` prepares the scene for the solver to come into the picture."
      ],
      "metadata": {
        "id": "SISys5MDMmVR"
      }
    },
    {
      "cell_type": "code",
      "source": [
        "# A\n",
        "parameter_map      = Dict(L => 1.0, m => 1.0, g => 9.81)\n",
        "\n",
        "# B\n",
        "initial_conditions = Dict(θ => 0.01, ω => 0.0)\n",
        "\n",
        "# C\n",
        "timespan           = (0.0, 10.0)"
      ],
      "metadata": {
        "id": "fYtvsmRkM3v2"
      },
      "execution_count": null,
      "outputs": []
    },
    {
      "cell_type": "markdown",
      "source": [
        "\n",
        "\n",
        "*   **A**: Create a dictionary to give values to the constants of the problem. The keys are not strings but the symbols defined in `@parameters`. This helps us change the values later in this dictionary directly if one wants without touching the equations defined above.\n",
        "*   **B**: Same as **A** for for the initial conditions. These are only for state variables. MTK maps each state variable to its initial condition nicely in this dictionary, which we can change later here without modifying the equations directly.\n",
        "*   **C**: The time window of the simulation $(t_0,t)$\n",
        "\n"
      ],
      "metadata": {
        "id": "EAs7SeS3Kjcm"
      }
    },
    {
      "cell_type": "code",
      "source": [
        "# A\n",
        "problem = ODEProblem(simplified, merge(initial_conditions, parameter_map), timespan)"
      ],
      "metadata": {
        "id": "767VroUeMLid"
      },
      "execution_count": null,
      "outputs": []
    },
    {
      "cell_type": "markdown",
      "source": [
        "\n",
        "\n",
        "*   **A**: Once the system is simplified, the `ODEProblem` constructor gathers everything that is needed in order to create an ODE problem that solvers understand. It takes\n",
        "    * The simplified system\n",
        "    * The initial conditions\n",
        "    * The specific parameters\n",
        "    * The time window of the simulation\n",
        "\n",
        "The `merge` function merges the two dictionaries, but it's only a Julia convention. If one forgets an IC for a state one gets an `value not found` error. If one puts `M` into the initial contidions, it's ignored as it isn't a state variable.\n"
      ],
      "metadata": {
        "id": "mMp1Q89cMdPr"
      }
    },
    {
      "cell_type": "code",
      "source": [
        "# A\n",
        "sol = solve(problem, Tsit5(), saveat=0.01)"
      ],
      "metadata": {
        "id": "gAIpsYtBQfYb"
      },
      "execution_count": null,
      "outputs": []
    },
    {
      "cell_type": "markdown",
      "source": [
        "\n",
        "\n",
        "*   **A**: Runs the numeric integrator on the ODEProblem defined above. In this particular case, we have\n",
        "    * `Tsit5()` a standard non-stiff 5th-order method\n",
        "    * `saveat=0.01` for recording the solution at every 0.01 time steps. This gives evenly spaced samples in `sol.t`, and creates a smoother plot.\n",
        "\n",
        "We can read the solution object as\n",
        "\n",
        "*   `sol.t`: The time steps\n",
        "*   `sol[θ]`: Vector of $\\theta(t)$ at the time steps\n",
        "*   `sol[ω]`: Vector of $\\omega(t)$ at the time steps\n",
        "\n",
        "And we can evaluate (interpolate) the solution at any position in time as `sol(t)` in the interval `[0,10]`.\n"
      ],
      "metadata": {
        "id": "OJ8s1Z6iQy93"
      }
    },
    {
      "cell_type": "code",
      "source": [],
      "metadata": {
        "id": "DTw3SKYkSZVc"
      },
      "execution_count": null,
      "outputs": []
    }
  ]
}