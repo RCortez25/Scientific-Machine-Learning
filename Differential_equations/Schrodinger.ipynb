{
  "nbformat": 4,
  "nbformat_minor": 0,
  "metadata": {
    "colab": {
      "provenance": [],
      "authorship_tag": "ABX9TyMABOvzjQBbc4sYzXzdXgEn",
      "include_colab_link": true
    },
    "kernelspec": {
      "name": "python3",
      "display_name": "Python 3"
    },
    "language_info": {
      "name": "python"
    }
  },
  "cells": [
    {
      "cell_type": "markdown",
      "metadata": {
        "id": "view-in-github",
        "colab_type": "text"
      },
      "source": [
        "<a href=\"https://colab.research.google.com/github/RCortez25/Scientific-Machine-Learning/blob/main/Differential_equations/Schrodinger.ipynb\" target=\"_parent\"><img src=\"https://colab.research.google.com/assets/colab-badge.svg\" alt=\"Open In Colab\"/></a>"
      ]
    },
    {
      "cell_type": "markdown",
      "source": [
        "# Introduction"
      ],
      "metadata": {
        "id": "uXpYxNi4KDIx"
      }
    },
    {
      "cell_type": "markdown",
      "source": [
        "# Code walkthrough"
      ],
      "metadata": {
        "id": "aOP3Q2wZKE8J"
      }
    },
    {
      "cell_type": "code",
      "execution_count": null,
      "metadata": {
        "id": "3FmNeh2WJ8Ts"
      },
      "outputs": [],
      "source": [
        "# A\n",
        "using MethodOfLines, ModelingToolkit, DifferentialEquations, DomainSets, Plots, Printf\n",
        "\n",
        "# B\n",
        "@parameters x t\n",
        "@variables u(..) v(..)"
      ]
    },
    {
      "cell_type": "markdown",
      "source": [
        "\n",
        "\n",
        "*   **A**: Import necessary libraries\n",
        "*   **B**: Defining the parameters and the state variables. In this case, `x,t` are both independent variables. Now, for the case of the state variables, one writes `(..)` to indicate that these will later take arguments. Now, in this case, we're splitting the wave function into real and imaginary parts\n",
        "    \n",
        "$$\\psi(x,t)=u(x,t)+iv(x,t)$$\n",
        "\n",
        "for convenience in working with both parts separatedly for the solver. Note that both $u$ anf $v$ are real valued. That is, one has\n",
        "\n",
        "$$i\\partial_t\\psi=-\\frac{1}{2}\\partial_{xx}\\psi⟹i(∂_tu+i∂_tv)=-\\frac{1}{2}(∂_{xx}u+i\\partial_{xx}v)$$\n",
        "\n",
        "$$\\therefore i∂_tu-∂_tv=-\\frac{1}{2}∂_{xx}u-\\frac{1}{2}i\\partial_{xx}v$$\n",
        "\n",
        "from which it follows that\n",
        "\n",
        "$$\n",
        "\\begin{align}\n",
        "\\text{Real}&:  ∂_tv=\\frac{1}{2}∂_{xx}u\\\\\n",
        "\\text{Imaginary}&: ∂_tu=-\\frac{1}{2}∂_{xx}v\n",
        "\\end{align}\n",
        "$$"
      ],
      "metadata": {
        "id": "BZL7Ppb4K2N3"
      }
    },
    {
      "cell_type": "code",
      "source": [
        "# A\n",
        "Dt  = Differential(t)\n",
        "Dxx = Differential(x)^2"
      ],
      "metadata": {
        "id": "WuKrF3zGQVC2"
      },
      "execution_count": null,
      "outputs": []
    },
    {
      "cell_type": "markdown",
      "source": [
        "\n",
        "\n",
        "*   **A**: Definition of the differential operators\n",
        "\n",
        "$$\n",
        "∂_t,\\quad\\partial_{xx}\n",
        "$$"
      ],
      "metadata": {
        "id": "UScInlAmQl-U"
      }
    },
    {
      "cell_type": "code",
      "source": [
        "# A\n",
        "eqs = [\n",
        "    Dt(u(x,t)) ~ -(1/2) * Dxx(v(x,t)),\n",
        "    Dt(v(x,t)) ~  +(1/2) * Dxx(u(x,t))\n",
        "]"
      ],
      "metadata": {
        "id": "YQgkG2w-Qvvb"
      },
      "execution_count": null,
      "outputs": []
    },
    {
      "cell_type": "markdown",
      "source": [
        "\n",
        "\n",
        "*   **A**: Definition of the equations of the system. This is the statement of the real and imaginary parts as we saw before\n",
        "\n",
        "$$\n",
        "\\begin{align}\n",
        "\\text{Real}&:  ∂_tv=\\frac{1}{2}∂_{xx}u\\\\\n",
        "\\text{Imaginary}&: ∂_tu=-\\frac{1}{2}∂_{xx}v\n",
        "\\end{align}\n",
        "$$\n",
        "\n",
        "Here we define these equations and write explicitly the dependende of $u$ and $v$ on $x$ and $t$."
      ],
      "metadata": {
        "id": "wpnVEgY6RLK0"
      }
    },
    {
      "cell_type": "code",
      "source": [
        "# A\n",
        "bcs = [\n",
        "    u(0,t) ~ 0.0,  u(1,t) ~ 0.0,\n",
        "    v(0,t) ~ 0.0,  v(1,t) ~ 0.0,\n",
        "    u(x,0) ~ sin(2π*x),\n",
        "    v(x,0) ~ 0.0\n",
        "]"
      ],
      "metadata": {
        "id": "cbZRt1m0ScZ9"
      },
      "execution_count": null,
      "outputs": []
    },
    {
      "cell_type": "markdown",
      "source": [
        "*   **A**: Definition of the boundary/initial conditions of the problem. We have *Dirichlet boundary conditions* in which one fixes the value of the field at the boundary, in this case\n",
        "\n",
        "$$\n",
        "\\begin{align}\n",
        "u(0,t) &= 0 \\\\\n",
        "u(1,t) &= 0 \\\\\n",
        "v(0,t) &= 0 \\\\\n",
        "v(1,t) &= 0\n",
        "\\end{align}\n",
        "$$\n",
        "\n",
        "from which we observe that we have a particle in a box$x\\in[0,1]$, that is, an infinite potential well, because the wave funtion vanishes at the walls.\n",
        "\n",
        "Then, we have the initial conditions of the field\n",
        "\n",
        "$$\n",
        "\\begin{align}\n",
        "u(x,0) &= \\sin(2\\pi x) \\\\\n",
        "v(x,0) &= 0\n",
        "\\end{align}\n",
        "$$\n",
        "\n",
        "which means a purely real initial wave because $v(x,0)=0$."
      ],
      "metadata": {
        "id": "zQdOpK26TAVy"
      }
    },
    {
      "cell_type": "code",
      "source": [
        "# A\n",
        "domains = [\n",
        "    x ∈ Interval(0.0..1.0),\n",
        "    t ∈ Interval(0.0..10.0)\n",
        "]"
      ],
      "metadata": {
        "id": "0tMkpd0gV0o5"
      },
      "execution_count": null,
      "outputs": []
    },
    {
      "cell_type": "markdown",
      "source": [
        "*   **A**: Declaring the domains of the independent variables.\n",
        "\n",
        "$x\\in [0,1]$ the box\n",
        "\n",
        "$t\\in[0,10]$ the time window of the simulation\n"
      ],
      "metadata": {
        "id": "LhLehczrV_tx"
      }
    },
    {
      "cell_type": "code",
      "source": [
        "# A\n",
        "@named pde = PDESystem(eqs, bcs, domains, [x, t], [u(x,t), v(x,t)])"
      ],
      "metadata": {
        "id": "Bupq2VUJWlhS"
      },
      "execution_count": null,
      "outputs": []
    },
    {
      "cell_type": "markdown",
      "source": [
        "*   **A**: Assembling the system by including\n",
        "    *   The equations\n",
        "    *   The initial/boundary conditions\n",
        "    *   The domains of the independent variables\n",
        "    *   The independent variables\n",
        "    *   The state variables, with their dependence explicitly written down"
      ],
      "metadata": {
        "id": "qV_n2_lDW2q6"
      }
    },
    {
      "cell_type": "code",
      "source": [
        "# A\n",
        "nx = 101\n",
        "\n",
        "# B\n",
        "order = 2\n",
        "\n",
        "# C\n",
        "discretization = MOLFiniteDifference([x=>nx], t; approx_order=order)"
      ],
      "metadata": {
        "id": "LtoFGf1RXQNH"
      },
      "execution_count": null,
      "outputs": []
    },
    {
      "cell_type": "markdown",
      "source": [
        "\n",
        "\n",
        "*   **A**: Select the number of spatial grid points along $x\\in[0,1]$. This will give one a $\\Delta x=1/(101-1)=0.01$ spacing.\n",
        "*   **B**: Selecting the accuracy order of the spatial finite-difference stencil.\n",
        "*   **C**: Creation of the discretized grid in $x$ while letting $t$ be continuous using the **Method of lines**. This transforms the system into a semi-discrete ODE system by generating a big coupled ODEs system in time so that one can use standard ODE solvers. This just gives the description, the recipe of the discretization, it doesn't apply it. It's like creating only the discretization instructions.\n",
        "\n"
      ],
      "metadata": {
        "id": "AbG2_hWQdt5Y"
      }
    },
    {
      "cell_type": "code",
      "source": [
        "semi = discretize(pde, discretization)"
      ],
      "metadata": {
        "id": "tI43nivNqMvz"
      },
      "execution_count": null,
      "outputs": []
    },
    {
      "cell_type": "markdown",
      "source": [
        "Here, the discretization instructions are applied to the system. This creates the coupled ODEs system from the PDE system, called `semi` in this example. This new ODE system is ready for solving."
      ],
      "metadata": {
        "id": "ocjoyu6pq0Eb"
      }
    },
    {
      "cell_type": "code",
      "source": [
        "# A\n",
        "tspan = (0.0, 10.0)\n",
        "\n",
        "# B\n",
        "sol = solve(semi, RK4(); dt=1e-4, saveat=0.02, progress=true)"
      ],
      "metadata": {
        "id": "ZY94L1WtrYgj"
      },
      "execution_count": null,
      "outputs": []
    },
    {
      "cell_type": "markdown",
      "source": [
        "**A**: Setting the time window for the integrator to be $(0.0, 10.0)$. THis is for the integrator and could be different from the domain defined earlier. Tha domain was an indication for the MOL method, whereas the timespan is for the solver.\n",
        "\n",
        "**B**: Integrating the semi-discrete ODE system using `RK4()`. `dt=1e-4` is the fixed time step for the solver. From $t=0$ to $t=10$ one then takes $10/10^{-4}=100,000$ RK4 steps. The `savetat=0.02` option records the solution at every 0.02 time steps for plotting. It doesn't force the integrator so step every 0.02 units, it just saves snapshots there. Smaller values yield smoother plots."
      ],
      "metadata": {
        "id": "ssPUs0nphcI-"
      }
    },
    {
      "cell_type": "code",
      "source": [
        "# A\n",
        "x_grid = sol[x]\n",
        "t_grid = sol[t]\n",
        "\n",
        "# B\n",
        "u_solution = sol[u(x,t)] # Real part\n",
        "v_solution = sol[v(x,t)] # Imaginary part\n",
        "\n",
        "# C\n",
        "psi2 = @.(u_solution^2 + v_solution^2)"
      ],
      "metadata": {
        "id": "o0BsFG3piOO7"
      },
      "execution_count": null,
      "outputs": []
    },
    {
      "cell_type": "markdown",
      "source": [
        "\n",
        "\n",
        "*   **A**: Obtaining the $x$ and $t$ values from the solution, that is, the points at which the spanshots were taken by the integrator. These will be used for plotting the results.\n",
        "*   **B**: Querying the solution object to obtain the $u$ values, which correspond to the real part of the wave function, and the $v$ values for the imaginary part.\n",
        "*   **C**: Obtaining the value of the probability density $|\\psi|^2=u^2+v^2$. The Julia's broadcasting macro `@.` makes the operation element-wise, in order to sum the squares of each part of the solution element-wise. This variable will be used for plotting as well.\n"
      ],
      "metadata": {
        "id": "0rm8lSBP7FSH"
      }
    },
    {
      "cell_type": "code",
      "source": [
        "# A\n",
        "p_u = heatmap(t_grid, x_grid, u_solution; xlabel=\"t\", ylabel=\"x\", title=\"u(x,t)\", colorbar=true)\n",
        "p_v = heatmap(t_grid, x_grid, v_solution; xlabel=\"t\", ylabel=\"x\", title=\"v(x,t)\", colorbar=true)\n",
        "\n",
        "# B\n",
        "plot(p_u, p_v, layout=(1,2), size=(1000,400))"
      ],
      "metadata": {
        "id": "_SXEqP0H7wfm"
      },
      "execution_count": null,
      "outputs": []
    },
    {
      "cell_type": "markdown",
      "source": [
        "\n",
        "\n",
        "*   **A**: Create two static heatmaps for each part of the solution.\n",
        "*   **B**: Plot the two static heatmaps into a single plot of `(1,2)`, that is, 1 row and 2 columns of the specified size.\n",
        "\n"
      ],
      "metadata": {
        "id": "qO7Okffd9X0l"
      }
    },
    {
      "cell_type": "markdown",
      "source": [
        "## Plots"
      ],
      "metadata": {
        "id": "Y2abSv4YZdH2"
      }
    },
    {
      "cell_type": "code",
      "source": [
        "# A\n",
        "anim_u = @animate for k in 1:length(t_grid)\n",
        "    plot(x_grid, u_solution[:, k];\n",
        "         xlabel = \"x\", ylabel = \"u(x,t)\",\n",
        "         title = @sprintf(\"t = %.2f\", t_grid[k]),\n",
        "         legend = false, lw = 2,\n",
        "         ylims = (minimum(u_solution), maximum(u_solution)))\n",
        "end\n",
        "\n",
        "# B\n",
        "gif(anim_u, \"u_evolution.gif\", fps = 20)\n",
        "\n",
        "# C\n",
        "anim_v = @animate for k in 1:length(t_grid)\n",
        "    plot(x_grid, v_solution[:, k];\n",
        "         xlabel = \"x\", ylabel = \"v(x,t)\",\n",
        "         title = @sprintf(\"t = %.2f\", t_grid[k]),\n",
        "         legend = false, lw = 2,\n",
        "         ylims = (minimum(v_solution), maximum(v_solution)))\n",
        "end\n",
        "\n",
        "gif(anim_v, \"v_evolution.gif\", fps = 20)"
      ],
      "metadata": {
        "id": "XRXwQH8A9r6w"
      },
      "execution_count": null,
      "outputs": []
    },
    {
      "cell_type": "markdown",
      "source": [
        "\n",
        "\n",
        "*   **A**:\n",
        "    * `@animate` record each iteration of the loop as a frame\n",
        "    * `k in 1:length(t_grid)` iterates over all of the time steps (Julia indexing starts at 1)\n",
        "    * `u_solution[:, k]` like Numpy, this is all rows and the *k*-th column, which corresponds to the *k*-th time step, as in `u(x,t_k)`. Rows are *x* and columns are *t*.\n",
        "    * `@sprintf(\"t = %.2f\", t_grid[k])` prints the title which is updated at every frame. `t = %.2f` prints the value of `t` with 2 decimals. The value of `t_grid[k]` is passed into the `%` symbol and displayed\n",
        "    * `ylims = (minimum(v_solution), maximum(v_solution))` This fixes the vertical scale for all frames yielding a smoother animation\n",
        "*   **B**: Saves all frames into a GIF file with `fps=20`, that is, 20 frames per second.\n",
        "\n"
      ],
      "metadata": {
        "id": "HPiSSUOHZhId"
      }
    },
    {
      "cell_type": "code",
      "source": [],
      "metadata": {
        "id": "UFyD20r_haFY"
      },
      "execution_count": null,
      "outputs": []
    }
  ]
}