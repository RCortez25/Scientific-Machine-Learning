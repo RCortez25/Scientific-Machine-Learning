{
  "nbformat": 4,
  "nbformat_minor": 0,
  "metadata": {
    "colab": {
      "provenance": [],
      "authorship_tag": "ABX9TyPlaCUCkIKLN0CtqQbYej7b",
      "include_colab_link": true
    },
    "kernelspec": {
      "name": "python3",
      "display_name": "Python 3"
    },
    "language_info": {
      "name": "python"
    }
  },
  "cells": [
    {
      "cell_type": "markdown",
      "metadata": {
        "id": "view-in-github",
        "colab_type": "text"
      },
      "source": [
        "<a href=\"https://colab.research.google.com/github/RCortez25/Scientific-Machine-Learning/blob/main/Differential_equations/SIR_(MTK).ipynb\" target=\"_parent\"><img src=\"https://colab.research.google.com/assets/colab-badge.svg\" alt=\"Open In Colab\"/></a>"
      ]
    },
    {
      "cell_type": "code",
      "execution_count": null,
      "metadata": {
        "id": "N7nhgsVSX1yg"
      },
      "outputs": [],
      "source": [
        "# Import necessary libraries\n",
        "using ModelingToolkit, DifferentialEquations, Plots\n",
        "\n",
        "# Define parameters and variables of the system\n",
        "@parameters t β γ N\n",
        "@variables S(t) I(t) R(t)\n",
        "\n",
        "# Define the operators\n",
        "Dt = Differential(t)\n",
        "\n",
        "# Define the equations of the system\n",
        "eqs = [\n",
        "    Dt(S) ~ -(β*S*I)/N,\n",
        "    Dt(I) ~ ((β*S*I)/N) - γ*I,\n",
        "    Dt(R) ~ γ*I\n",
        "]\n",
        "\n",
        "# Assemble the system\n",
        "@named system = ODESystem(eqs, t, [S, I, R], [β, γ, N])\n",
        "\n",
        "# Optimize the system\n",
        "simplified = structural_simplify(system)\n",
        "\n",
        "# Parameters, initial conditions, and time window\n",
        "parameter_map = Dict(β => 0.3, γ => 0.1, N => 1000)\n",
        "initial_conditions = Dict(I => 1, R => 0, S => 1000 - 1 - 0)\n",
        "timespan = (0.0, 160.0) # in days in this case\n",
        "\n",
        "# Create the ODE problem\n",
        "problem = ODEProblem(simplified,\n",
        "                     merge(initial_conditions, parameter_map),\n",
        "                     timespan)\n",
        "\n",
        "# Solve the problem\n",
        "solution = solve(problem, Tsit5(), saveat=0.5)\n",
        "\n",
        "# Plot the solution\n",
        "plot(solution.t, solution[S], label=\"Susceptible\", lw=2)\n",
        "plot!(solution.t, solution[I], label=\"Infected\", lw=2)\n",
        "plot!(solution.t, solution[R], label=\"Recovered\", lw=2)\n",
        "xlabel!(\"Time (days)\")\n",
        "ylabel!(\"Population\")\n",
        "title!(\"SIR Model Dynamics\")"
      ]
    }
  ]
}