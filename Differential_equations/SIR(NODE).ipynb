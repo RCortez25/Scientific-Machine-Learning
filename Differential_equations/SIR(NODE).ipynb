{
  "nbformat": 4,
  "nbformat_minor": 0,
  "metadata": {
    "colab": {
      "provenance": [],
      "authorship_tag": "ABX9TyOQvgMbseWOsQiyusU1OkIe",
      "include_colab_link": true
    },
    "kernelspec": {
      "name": "python3",
      "display_name": "Python 3"
    },
    "language_info": {
      "name": "python"
    }
  },
  "cells": [
    {
      "cell_type": "markdown",
      "metadata": {
        "id": "view-in-github",
        "colab_type": "text"
      },
      "source": [
        "<a href=\"https://colab.research.google.com/github/RCortez25/Scientific-Machine-Learning/blob/main/Differential_equations/SIR(NODE).ipynb\" target=\"_parent\"><img src=\"https://colab.research.google.com/assets/colab-badge.svg\" alt=\"Open In Colab\"/></a>"
      ]
    },
    {
      "cell_type": "markdown",
      "source": [
        "# Introduction"
      ],
      "metadata": {
        "id": "n9BN5IlSTpl3"
      }
    },
    {
      "cell_type": "markdown",
      "source": [
        "# Code walkthrough"
      ],
      "metadata": {
        "id": "KXhVIOaMTrlj"
      }
    },
    {
      "cell_type": "code",
      "execution_count": null,
      "metadata": {
        "id": "g9JZI3s8TF8e"
      },
      "outputs": [],
      "source": [
        "using ComponentArrays, Lux, DiffEqFlux, OrdinaryDiffEq, Optimization, OptimizationOptimJL,\n",
        "    OptimizationOptimisers, Random, Plots, ModelingToolkit\n",
        "\n",
        "#------ Generate ground-truth data\n",
        "@parameters t β γ N\n",
        "@variables S(t) I(t) R(t)\n",
        "Dt = Differential(t)\n",
        "\n",
        "eqs = [\n",
        "    Dt(S) ~ -(β*S*I)/N,\n",
        "    Dt(I) ~ ((β*S*I)/N) - γ*I,\n",
        "    Dt(R) ~ γ*I\n",
        "]\n",
        "\n",
        "@named system = ODESystem(eqs, t, [S, I, R], [β, γ, N])\n",
        "simplified = structural_simplify(system)\n",
        "\n",
        "parameter_map = Dict(β => 0.3, γ => 0.1, N => 1000)\n",
        "initial_conditions = Dict(I => 1, R => 0, S => 1000 - 1 - 0)\n",
        "timespan = (0.0, 160.0) # in days\n",
        "\n",
        "problem = ODEProblem(simplified,\n",
        "                     merge(initial_conditions, parameter_map),\n",
        "                     timespan)\n",
        "\n",
        "solution = solve(problem, Tsit5(), saveat=0.5)\n",
        "ground_truth = Array(solution)"
      ]
    }
  ]
}