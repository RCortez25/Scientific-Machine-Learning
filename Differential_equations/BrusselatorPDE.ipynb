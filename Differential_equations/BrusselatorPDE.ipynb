{
  "nbformat": 4,
  "nbformat_minor": 0,
  "metadata": {
    "colab": {
      "provenance": [],
      "authorship_tag": "ABX9TyOC/G/p8+KOv+pN2AT9sMFM",
      "include_colab_link": true
    },
    "kernelspec": {
      "name": "python3",
      "display_name": "Python 3"
    },
    "language_info": {
      "name": "python"
    }
  },
  "cells": [
    {
      "cell_type": "markdown",
      "metadata": {
        "id": "view-in-github",
        "colab_type": "text"
      },
      "source": [
        "<a href=\"https://colab.research.google.com/github/RCortez25/Scientific-Machine-Learning/blob/main/Differential_equations/BrusselatorPDE.ipynb\" target=\"_parent\"><img src=\"https://colab.research.google.com/assets/colab-badge.svg\" alt=\"Open In Colab\"/></a>"
      ]
    },
    {
      "cell_type": "markdown",
      "source": [
        "# Brusselator PDE\n",
        "\n",
        "$$\n",
        "\\begin{align}\n",
        "\\partial_tu &= 1+vu^2-4.4u+\\alpha(\\partial_{xx}u+\\partial_{yy}u)+f(x,y,t) \\\\\n",
        "\\partial_tv &= 3.4u-vu^2+\\alpha(∂_{xx}v+∂_{yy}v)\n",
        "\\end{align}\n",
        "$$\n",
        "\n",
        "where\n",
        "\n",
        "$$\n",
        "f(x,y,t)=\n",
        "\\begin{cases}\n",
        "5, & (x-0.3)^2+(y-0.6)^2\\leq(0.1)^2~\\text{and}~t\\geq1.1 \\\\\n",
        "0, & \\text{otherwise}\n",
        "\\end{cases}\n",
        "$$\n",
        "\n",
        "Initial conditions\n",
        "\n",
        "$$\n",
        "\\begin{align}\n",
        "u(x,y,0) &=22(y(1-y))^{3/2} \\\\\n",
        "v(x,y,0) &=27(x(1-x))^{3/2}\n",
        "\\end{align}\n",
        "$$\n",
        "\n",
        "Periodic boundary condition\n",
        "$$\n",
        "\\begin{align}\n",
        "u(x+1,y,t) &=u(x,y,t) \\\\\n",
        "u(x,y+1,t) &=u(x,y,t)\n",
        "\\end{align}\n",
        "$$\n",
        "\n",
        "Also\n",
        "\n",
        "$$\n",
        "t\\in[0,11.5]\n",
        "$$"
      ],
      "metadata": {
        "id": "qCOl6nVbr5bf"
      }
    },
    {
      "cell_type": "markdown",
      "source": [
        "# Code"
      ],
      "metadata": {
        "id": "1Zr2PRBRuBtU"
      }
    },
    {
      "cell_type": "code",
      "execution_count": null,
      "metadata": {
        "id": "i80zPnoFr31z"
      },
      "outputs": [],
      "source": [
        "# A\n",
        "@parameters x y t\n",
        "@variables u(..) v(..)\n",
        "\n",
        "# B\n",
        "Dt = Differential(t)\n",
        "Dx = Differential(x)\n",
        "Dy = Differential(y)\n",
        "Dxx = Differential(x)^2\n",
        "Dyy = Differential(y)^2\n",
        "\n",
        "# C\n",
        "∇²(u) = Dxx(u) + Dyy(u)"
      ]
    },
    {
      "cell_type": "markdown",
      "source": [
        "\n",
        "\n",
        "*   **A**: Define the independent variables `x, y, t`, and the dependent variables `u, v`.\n",
        "*   **B**: Define the operators to be used, in this case\n",
        "\n",
        "$$\n",
        "\\partial_t,\\partial_x,\\partial_{y},\\partial_{xx},\\partial_{yy}\n",
        "$$\n",
        "\n",
        "*   **C**: Definition of the Laplacian operator as well\n",
        "\n",
        "$$\\partial_{xx}+\\partial_{yy}$$\n",
        "\n"
      ],
      "metadata": {
        "id": "VKiw6Yrbwavw"
      }
    },
    {
      "cell_type": "code",
      "source": [
        "# A\n",
        "brusselator_f(x, y, t) = (((x-0.3)^2 + (y-0.6)^2) <= 0.1^2) * (t >= 1.1) * 5\n",
        "\n",
        "# B\n",
        "x_min = y_min = t_min = 0.0\n",
        "x_max = y_max = 1.0\n",
        "t_max = 11.5\n",
        "\n",
        "# C\n",
        "α = 10.0\n",
        "\n",
        "# D\n",
        "u0(x, y, t) = 22 * (y * (1 - y))^(3/2)\n",
        "v0(x, y, t) = 27 * (x * (1 - x))^(3/2)"
      ],
      "metadata": {
        "id": "sY14vZ37xROu"
      },
      "execution_count": null,
      "outputs": []
    },
    {
      "cell_type": "markdown",
      "source": [
        "\n",
        "\n",
        "*   **A**: The PDE contains a function $f(x,y,t)$ as defined above. This is expressed in code here.\n",
        "*   **B**: Definition of the min and max values for each independent variable, to be used in the boundary conditions later. In this case\n",
        "\n",
        "$$\n",
        "\\begin{align}\n",
        "x &\\in[0,1] \\\\\n",
        "y &\\in[0,1] \\\\\n",
        "t &\\in[0,11.5]\n",
        "\\end{align}\n",
        "$$\n",
        "\n",
        "*   **C**: Choosing a value for the constant $\\alpha=10$\n",
        "\n",
        "*   **D**: Definition of the initial conditions, int his case\n",
        "\n",
        "$$\n",
        "\\begin{align}\n",
        "u_0\\equiv u(x,y,0) &= 22(y(1-y))^{3/2} \\\\\n",
        "v_0\\equiv v(x,y,0) &= 27(x(1-x))^{3/2} \\\\\n",
        "\\end{align}\n",
        "$$\n"
      ],
      "metadata": {
        "id": "Uav1Xnapxhtn"
      }
    },
    {
      "cell_type": "code",
      "source": [
        "# A\n",
        "equations = [\n",
        "    Dt(u(x,y,t)) ~ 1 + v(x,y,t)*u(x,y,t)^2 - 4.4*u(x,y,t) + α*∇²(u(x,y,t)) + brusselator_f(x,y,t),\n",
        "    Dt(v(x,y,t)) ~ 3.4*u(x,y,t) - v(x,y,t)*u(x,y,t)^2 + α*∇²(v(x,y,t))\n",
        "]\n",
        "\n",
        "# B\n",
        "domains = [\n",
        "    x ∈ Interval(x_min, x_max),\n",
        "    y ∈ Interval(y_min, y_max),\n",
        "    t ∈ Interval(t_min, t_max)\n",
        "]"
      ],
      "metadata": {
        "id": "dgBZCg9Pyc0-"
      },
      "execution_count": null,
      "outputs": []
    },
    {
      "cell_type": "markdown",
      "source": [
        "\n",
        "\n",
        "*   **A**: Definition of the two PDEs using the defined operators\n",
        "\n",
        "$$\n",
        "\\begin{align}\n",
        "\\partial_tu &= 1+vu^2-4.4u+\\alpha(\\partial_{xx}u+\\partial_{yy}u)+f(x,y,t) \\\\\n",
        "\\partial_tv &= 3.4u-vu^2+\\alpha(∂_{xx}v+∂_{yy}v)\n",
        "\\end{align}\n",
        "$$\n",
        "\n",
        "*   **B**: Definition of the domains of each independent variable using the values from above\n",
        "\n"
      ],
      "metadata": {
        "id": "Zd1YcHHqyk52"
      }
    },
    {
      "cell_type": "code",
      "source": [
        "# A\n",
        "boundary_conditions = [\n",
        "    u(x,y,0) ~ u0(x,y,0),\n",
        "    u(0,y,t) ~ u(1,y,t),\n",
        "    u(x,0,t) ~ u(x,1,t),\n",
        "\n",
        "    v(x,y,0) ~ v0(x,y,0),\n",
        "    v(0,y,t) ~ v(1,y,t),\n",
        "    v(x,0,t) ~ v(x,1,t)\n",
        "]\n"
      ],
      "metadata": {
        "id": "05gu-RWwzDcy"
      },
      "execution_count": null,
      "outputs": []
    },
    {
      "cell_type": "markdown",
      "source": [
        "\n",
        "\n",
        "*   **A**: Defining the periodic boundary conditions, in this case one has\n",
        "\n",
        "$$\n",
        "\\begin{align}\n",
        "u(x,y,0) &= u_0 \\\\\n",
        "u(0,y,t) &= u(1,y,t) \\\\\n",
        "u(x,0,t) &= u(x,1,t)\n",
        "\\end{align}\n",
        "$$\n",
        "\n",
        "That is, the value of $u$ is the same at $x=0$ and at $x=1$, $\\forall t$. The same applies for $u$ at the values of $y=0$ and $y=1$.\n",
        "\n",
        "The same boundary conditions apply for $v$\n",
        "\n",
        "$$\n",
        "\\begin{align}\n",
        "v(x,y,0) &= v_0 \\\\\n",
        "v(0,y,t) &= v(1,y,t) \\\\\n",
        "v(x,0,t) &= v(x,1,t)\n",
        "\\end{align}\n",
        "$$"
      ],
      "metadata": {
        "id": "OujOmBLHzQ3O"
      }
    },
    {
      "cell_type": "code",
      "source": [
        "# A\n",
        "@named pde_system = PDESystem(equations, boundary_conditions, domains, [x,y,t], [u(x,y,t), v(x,y,t)])"
      ],
      "metadata": {
        "id": "9O0JU0p22-Ji"
      },
      "execution_count": null,
      "outputs": []
    },
    {
      "cell_type": "markdown",
      "source": [
        "\n",
        "\n",
        "*   **A**: Definition of the PDE system of equations using the `PDESystem` constructor. One passes it the equations, the boundary conditions, the domains of the independent variables, the independent variables, and the dependent variables."
      ],
      "metadata": {
        "id": "ewyIns3R3FUb"
      }
    },
    {
      "cell_type": "code",
      "source": [
        "# A\n",
        "N = 32\n",
        "order = 2\n",
        "\n",
        "# B\n",
        "discretization = MOLFiniteDifference([x=>N, y=>N], t, approx_order=order)"
      ],
      "metadata": {
        "id": "XMw2XCwL3c6N"
      },
      "execution_count": null,
      "outputs": []
    },
    {
      "cell_type": "markdown",
      "source": [
        "\n",
        "\n",
        "*   **A**: Setting the parameters to pass to the MOL method\n",
        "*   **B**: One tells the method to discretize `x, y`, into `N=32` grid points, but leave `t` continous. This creates a square of $x,y$ points, which will be a 32$\\times$32 grid for the domain $[0,1]$, so each square will be $\\Delta x=\\Delta y=1/32$ and to use it an approximation order of 2, that is, a second-order finite difference scheme for the derivatives. So, this basically makes a grid.\n",
        "\n",
        "Recall that the Method of Lines transforms the PDE system into a large system of ODEs in time.\n",
        "\n"
      ],
      "metadata": {
        "id": "3872HdwFPl5u"
      }
    },
    {
      "cell_type": "code",
      "source": [
        "# A\n",
        "problem = discretize(pde_system, discretization)\n",
        "\n",
        "# B\n",
        "solution = solve(problem, TRBDF2(), saveat=0.1)"
      ],
      "metadata": {
        "id": "TcyWPJJISBbM"
      },
      "execution_count": null,
      "outputs": []
    },
    {
      "cell_type": "markdown",
      "source": [
        "\n",
        "\n",
        "*   **A**: Take the PDE system and applyt the discretization rule to it. The returns an ODEProblem object. This writes down equations for every grid cell. In this case, $32\\times32=1024$ ODEs for $u$ and $1024$ for $v$.\n",
        "*   **B**: Solve the problem using the `TRBDF2` algorithm, which is a second-order implicit solver, good for stiff problems. The solution is saved every 0.1 units. This integrates the ODE forward in time until `t_max=11.5`. With this, one watches patterns evolve.\n",
        "\n"
      ],
      "metadata": {
        "id": "V57D74zft4tR"
      }
    },
    {
      "cell_type": "code",
      "source": [
        "# A\n",
        "x_grid = solution[x]\n",
        "y_grid = solution[y]\n",
        "t_grid = solution[t]\n",
        "\n",
        "# B\n",
        "u_solution = solution[u(x,y,t)]\n",
        "v_solution = solution[v(x,y,t)]"
      ],
      "metadata": {
        "id": "X4OgCdcEvB67"
      },
      "execution_count": null,
      "outputs": []
    },
    {
      "cell_type": "markdown",
      "source": [
        "\n",
        "\n",
        "*   **A**: Retrieves the points on the grid ($x$ and $y$) and the points $t$ at which the solution was saved.\n",
        "*   **B**: Retrieves the solution of $u$ and $v$ as arrays with the computed values at each point of the grid at every saved time.\n"
      ],
      "metadata": {
        "id": "ZGRelp2IvtXf"
      }
    },
    {
      "cell_type": "code",
      "source": [
        "# A\n",
        "anim_u = @animate for k in 1:length(t_grid)\n",
        "    heatmap(u_solution[2:end, 2:end, k], title=\"$(t_grid[k])\")\n",
        "end\n",
        "\n",
        "# B\n",
        "gif(anim_u, \"Brusselator_u.gif\", fps = 8)\n",
        "\n",
        "# C\n",
        "anim_v = @animate for k in 1:length(t_grid)\n",
        "    heatmap(v_solution[2:end, 2:end, k], title=\"$(t_grid[k])\")\n",
        "end\n",
        "gif(anim_v, \"Brusselator_v.gif\", fps = 8)"
      ],
      "metadata": {
        "id": "tJFIQDRBzdHx"
      },
      "execution_count": null,
      "outputs": []
    },
    {
      "cell_type": "markdown",
      "source": [
        "\n",
        "\n",
        "*   **A**: For the variable $u$, for each saved time step, plots one heatmap frame and collects it into an animation\n",
        "*   **B**: Combines all collected frames of `anim_u` into an animation and saves it as a `.gif` file with 8 frames per second.\n",
        "*   **C**: The same for the variable $v$\n",
        "\n"
      ],
      "metadata": {
        "id": "GZaxlwWV4b65"
      }
    }
  ]
}