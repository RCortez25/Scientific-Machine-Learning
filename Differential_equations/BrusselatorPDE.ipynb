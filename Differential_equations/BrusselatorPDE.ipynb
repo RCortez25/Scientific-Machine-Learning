{
  "nbformat": 4,
  "nbformat_minor": 0,
  "metadata": {
    "colab": {
      "provenance": [],
      "authorship_tag": "ABX9TyP8o4WApMNt6sj6oS0Bhib6",
      "include_colab_link": true
    },
    "kernelspec": {
      "name": "python3",
      "display_name": "Python 3"
    },
    "language_info": {
      "name": "python"
    }
  },
  "cells": [
    {
      "cell_type": "markdown",
      "metadata": {
        "id": "view-in-github",
        "colab_type": "text"
      },
      "source": [
        "<a href=\"https://colab.research.google.com/github/RCortez25/Scientific-Machine-Learning/blob/main/Differential_equations/BrusselatorPDE.ipynb\" target=\"_parent\"><img src=\"https://colab.research.google.com/assets/colab-badge.svg\" alt=\"Open In Colab\"/></a>"
      ]
    },
    {
      "cell_type": "markdown",
      "source": [
        "# Brusselator PDE\n",
        "\n",
        "$$\n",
        "\\begin{align}\n",
        "\\partial_tu &= 1+vu^2-4.4u+\\alpha(\\partial_{xx}u+\\partial_{yy}u)+f(x,y,t) \\\\\n",
        "\\partial_tv &= 3.4u-vu^2+\\alpha(∂_{xx}v+∂_{yy}v)\n",
        "\\end{align}\n",
        "$$\n",
        "\n",
        "where\n",
        "\n",
        "$$\n",
        "f(x,y,t)=\n",
        "\\begin{cases}\n",
        "5, & (x-0.3)^2+(y-0.6)^2\\leq(0.1)^2~\\text{and}~t\\geq1.1 \\\\\n",
        "0, & \\text{otherwise}\n",
        "\\end{cases}\n",
        "$$\n",
        "\n",
        "Initial conditions\n",
        "\n",
        "$$\n",
        "\\begin{align}\n",
        "u(x,y,0) &=22(y(1-y))^{3/2} \\\\\n",
        "v(x,y,0) &=27(x(1-x))^{3/2}\n",
        "\\end{align}\n",
        "$$\n",
        "\n",
        "Periodic boundary condition\n",
        "$$\n",
        "\\begin{align}\n",
        "u(x+1,y,t) &=u(x,y,t) \\\\\n",
        "u(x,y+1,t) &=u(x,y,t)\n",
        "\\end{align}\n",
        "$$"
      ],
      "metadata": {
        "id": "qCOl6nVbr5bf"
      }
    },
    {
      "cell_type": "markdown",
      "source": [
        "# Code"
      ],
      "metadata": {
        "id": "1Zr2PRBRuBtU"
      }
    },
    {
      "cell_type": "code",
      "execution_count": null,
      "metadata": {
        "id": "i80zPnoFr31z"
      },
      "outputs": [],
      "source": []
    }
  ]
}