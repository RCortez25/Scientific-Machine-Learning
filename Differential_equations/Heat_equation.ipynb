{
  "nbformat": 4,
  "nbformat_minor": 0,
  "metadata": {
    "colab": {
      "provenance": [],
      "authorship_tag": "ABX9TyMLB0vki1I4irOkpIPHX8Yx",
      "include_colab_link": true
    },
    "kernelspec": {
      "name": "python3",
      "display_name": "Python 3"
    },
    "language_info": {
      "name": "python"
    }
  },
  "cells": [
    {
      "cell_type": "markdown",
      "metadata": {
        "id": "view-in-github",
        "colab_type": "text"
      },
      "source": [
        "<a href=\"https://colab.research.google.com/github/RCortez25/Scientific-Machine-Learning/blob/main/Differential_equations/Heat_equation.ipynb\" target=\"_parent\"><img src=\"https://colab.research.google.com/assets/colab-badge.svg\" alt=\"Open In Colab\"/></a>"
      ]
    },
    {
      "cell_type": "markdown",
      "source": [
        "# Heat equation"
      ],
      "metadata": {
        "id": "OsNRfOBTt96V"
      }
    },
    {
      "cell_type": "code",
      "execution_count": null,
      "metadata": {
        "id": "tjsVX55atsVe"
      },
      "outputs": [],
      "source": [
        "# Import libraries\n",
        "using OrdinaryDiffEq, ModelingToolkit, MethodOfLines, DomainSets\n",
        "\n",
        "# Exact solution for reference\n",
        "u_exact = (x,t) -> exp.(-t) * cos.(x)"
      ]
    },
    {
      "cell_type": "markdown",
      "source": [
        "Since one has the exact solution for this PDE, having it will help for comparing with the solver.\n",
        "\n",
        "*   `->` defines an anonymous function, like a lambda function in Python. In this case `(x,t)` will be mapped to the formula\n",
        "\n",
        "$$u(x,t)=e^{-t}\\cos(x)$$\n",
        "\n",
        "*   `.` is for boradcasting. If `t` or `x` are not single scalar values, then the operation is performed element-wise\n",
        "\n"
      ],
      "metadata": {
        "id": "6FK7DTAYuIci"
      }
    },
    {
      "cell_type": "code",
      "source": [
        "# Parameters, variables, and derivatives\n",
        "@parameters t x\n",
        "@variables u(..)\n",
        "Dt = Differential(t)\n",
        "Dxx = Differentia(x)^2"
      ],
      "metadata": {
        "id": "zHkJcytAubo-"
      },
      "execution_count": null,
      "outputs": []
    },
    {
      "cell_type": "markdown",
      "source": [
        "*   Define tha independent variables to be `t` and `x`\n",
        "*   Define the dependent variable to be `u`. In this case, `u(..)` just means `u` will be a function of the parameters\n",
        "*   Define the operator $\\partial_t$\n",
        "*   Define the operator $\\partial_{xx}$\n",
        "\n",
        "\n"
      ],
      "metadata": {
        "id": "tFjYQ2dZva30"
      }
    },
    {
      "cell_type": "code",
      "source": [
        "# Define the 1D PDE\n",
        "pde = Dt(u(t, x)) ~ Dxx(u(t, x))\n",
        "\n",
        "# Boundary conditions\n",
        "bcs = [\n",
        "    u(0, x) ~ cos(x),\n",
        "    u(t, 0) ~ exp(-t),\n",
        "    u(t, 1) ~ exp(-t) * cos(1)\n",
        "]\n",
        "\n",
        "# Space and time domains\n",
        "domains = [\n",
        "    t ∈ Interval(0.0, 1.0),\n",
        "    x ∈ Interval(0.0, 1.0)\n",
        "]"
      ],
      "metadata": {
        "id": "f2vVmd_L0Uu0"
      },
      "execution_count": null,
      "outputs": []
    },
    {
      "cell_type": "markdown",
      "metadata": {
        "id": "680f06ef"
      },
      "source": [
        "* `Dt(u(t, x)) ~ Dxx(u(t, x))` defines the PDE, that is\n",
        "\n",
        "$$\n",
        "\\begin{align*}\n",
        "\\partial_tu(t,x)&=\\partial_{xx}u(t,x)\n",
        "\\end{align*}\n",
        "$$\n",
        "\n",
        "In Julia `~` means `=`.\n",
        "\n",
        "* One defines the boundary conditions, in this case\n",
        "\n",
        "$$\n",
        "\\begin{align*}\n",
        "u(0, x) &= \\cos(x) \\\\\n",
        "u(t, 0) &= e^{-t} \\\\\n",
        "u(t, 1) &= e^{-t} \\cos(1)\n",
        "\\end{align*}\n",
        "$$\n",
        "\n",
        "* Moreover, we define the domains for the independent variables\n",
        "\n",
        "$$\n",
        "\\begin{align*}\n",
        "t &\\in[0,1] \\\\\n",
        "x &\\in[0,1]\n",
        "\\end{align*}\n",
        "$$"
      ]
    },
    {
      "cell_type": "code",
      "source": [
        "# Setting up the PDE system\n",
        "@named oPDESystem = PDESystem(pde, bcs, domains, [t, x], [u(t, x)])"
      ],
      "metadata": {
        "id": "UPoYO-1eIqRH"
      },
      "execution_count": null,
      "outputs": []
    },
    {
      "cell_type": "markdown",
      "source": [
        "One defines the system of PDEs, which include, in this order\n",
        "\n",
        "*   The PDE istself\n",
        "*   Boundary conditions\n",
        "*   Domains of the independent variables\n",
        "*   The independent variables\n",
        "*   The dependent variable $u(t,x)$\n",
        "\n",
        "and store it in the variable `oPDESystem`.\n",
        "\n",
        "\n",
        "\n",
        "\n"
      ],
      "metadata": {
        "id": "8sOo4mKcJJwv"
      }
    },
    {
      "cell_type": "code",
      "source": [
        "# Method of Lines discretization\n",
        "# Step size\n",
        "dx = 0.1\n",
        "# Second order approximation for finite differences\n",
        "order = 2\n",
        "# Discretize variable x with spacing dx, leave t continuous\n",
        "discretization = MOLFiniteDifference([x => dx], t)"
      ],
      "metadata": {
        "id": "GkSKpHAmJ8eo"
      },
      "execution_count": null,
      "outputs": []
    },
    {
      "cell_type": "markdown",
      "source": [
        "One sets up the **Method of lines** for solving the problem. We choose\n",
        "\n",
        "\n",
        "*   A step-size of $dx=0.1$. Since $x\\in[0,1]$ one has 11 points of size $0.1$\n",
        "*   `order=2` indicates the accuracy of the finite difference scheme to be used, that is, a second-porder scheme for apporximating derivatives. For instance\n",
        "\n",
        "$$\\partial_{xx}u\\approx\\frac{u(x+dx)-2u(x)+u(x-dx)}{(dx)^2}$$\n",
        "\n",
        "*   Create a `MOLFiniteDifference` object that discretizes the variable `x` with spacing `dx`. The variable `t` is left as continuous. This is so, because the solver will solve the solution in time. This object is like a \"recipe object\", saying that if one ever passes a PDE system to it, it will discretize $x$ and leave $t$ as continuous.\n",
        "\n"
      ],
      "metadata": {
        "id": "-Q2es6HyJ-MQ"
      }
    },
    {
      "cell_type": "code",
      "source": [
        "# Convert the PDE problem into an ODE problem\n",
        "problem = discretize(oPDESystem, discretization)"
      ],
      "metadata": {
        "id": "DhdYSktIwK-n"
      },
      "execution_count": null,
      "outputs": []
    },
    {
      "cell_type": "markdown",
      "source": [
        "This creates the problem to be solved. We use the method of lines, that is, the `discretization` object and pass it to the `discretize` function along with the system of PDEs to be solved, namely, `oPDESystem`. The `discretize` function applies the discretization rule to the PDE.\n",
        "\n",
        "Now we have a set of ODEs, one at each point of the spatial grid for $x$. With this, one only solves the problem *in time* only.\n",
        "\n",
        "That is\n",
        "\n",
        "$$\\partial_tu=\\partial_{xx}u$$\n",
        "\n",
        "was transformed into\n",
        "\n",
        "$$\\frac{d}{dt}U_i(t)=\\frac{U_{i+1}(t)-2U_i(t)+U_{i-1}(t)}{(dx)^2}$$\n",
        "\n",
        "for each interior point $i$.\n",
        "\n",
        "Using the `discretize` function, the \"recipe\" called `discretization` is applied to the `oPDESystem`. So the `discretize` function is appying the recipe to the system."
      ],
      "metadata": {
        "id": "5Wh0bMqcLrdO"
      }
    },
    {
      "cell_type": "markdown",
      "source": [
        "---\n",
        "**The `discretize` function**\n",
        "\n",
        "With $dx=0.1$ one has\n",
        "\n",
        "$$x_0=0,x_1=0.1,x_2=0.2,\\ldots,x_{10}=1$$\n",
        "\n",
        "The interior points are\n",
        "\n",
        "$$u(t,x_1),\\ldots,u(t,x_9)$$\n",
        "\n",
        "These interior points are the points that one evolves in time, like a movie. One can imagine them like a line, with the $x$-value fixed, the value of $u$ at each $t$ changes in time.\n",
        "\n",
        "One then defines\n",
        "\n",
        "$$U(t)=\\begin{bmatrix}u(t,0.1) \\\\ \\vdots \\\\u(t,0.9)\\end{bmatrix}$$\n",
        "\n",
        "Now, for\n",
        "\n",
        "$$\\partial_tu=\\partial_{xx}u$$\n",
        "\n",
        "one has that the LHS can be tackled with the methods one knows, but the RHS is harder., so one approximates\n",
        "\n",
        "$$\\partial_{xx}u(x_i)\\approx\\frac{u(t,x_{i+1})-2u(t,x_i)+u(t,x_{i-1})}{(dx)^2}$$\n",
        "\n",
        "Then, the system is one of ODEs of the form\n",
        "\n",
        "$$D_tU(t)=AU(t)+b(t)$$\n",
        "\n",
        "where $b(t)$ comes from the boundary conditions. This is the system that `discretize` gives one.\n",
        "\n",
        "---"
      ],
      "metadata": {
        "id": "6FrrIqh2dzDL"
      }
    },
    {
      "cell_type": "code",
      "source": [],
      "metadata": {
        "id": "oDBXddQcNfcv"
      },
      "execution_count": null,
      "outputs": []
    }
  ]
}